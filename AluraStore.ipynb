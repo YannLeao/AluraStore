{
 "cells": [
  {
   "metadata": {},
   "cell_type": "markdown",
   "source": [
    "# Alura Store \n",
    "Análise Data-Driven: Recomendação baseada em faturamento, desempenho geográfico e satisfação do cliente"
   ]
  },
  {
   "metadata": {},
   "cell_type": "markdown",
   "source": [
    "## 1. Contexto do Problema  \n",
    "\n",
    " Ajudar o Senhor João a decidir qual loja da sua rede Alura Store vender para iniciar um novo empreendimento.\n",
    "\n",
    "- Objetivo: Identificar a loja menos eficiente para venda.  \n",
    "- Dados disponíveis: Vendas em 2023, avaliações, localização. "
   ]
  },
  {
   "cell_type": "markdown",
   "metadata": {
    "id": "RhEdWd9YUR6H"
   },
   "source": [
    "### Importação dos dados\n",
    "\n"
   ]
  },
  {
   "metadata": {},
   "cell_type": "code",
   "source": [
    "import pandas as pd\n",
    "\n",
    "loja = pd.read_csv('data/loja_1.csv')\n",
    "loja2 = pd.read_csv('data/loja_2.csv')\n",
    "loja3 = pd.read_csv('data/loja_3.csv')\n",
    "loja4 = pd.read_csv('data/loja_4.csv')\n",
    "\n",
    "loja.describe()"
   ],
   "outputs": [],
   "execution_count": null
  },
  {
   "cell_type": "markdown",
   "metadata": {
    "id": "X62IW3KFUIYm"
   },
   "source": "## 2. Análise Exploratória (EDA)\n"
  },
  {
   "metadata": {},
   "cell_type": "markdown",
   "source": "### 2.1  Faturamento por Loja"
  },
  {
   "metadata": {},
   "cell_type": "markdown",
   "source": "### 2.2. Desempenho por Categoria  "
  },
  {
   "cell_type": "markdown",
   "metadata": {
    "id": "2V_vcAPzWZmR"
   },
   "source": "### 2.3. Satisfação do Cliente  "
  },
  {
   "metadata": {},
   "cell_type": "markdown",
   "source": "### 2.4. Produtos mais e menos vendidos"
  },
  {
   "metadata": {},
   "cell_type": "markdown",
   "source": "### 2.5. Frete  médio por loja"
  },
  {
   "metadata": {},
   "cell_type": "markdown",
   "source": "### 2.6. Análise Geográfica "
  },
  {
   "metadata": {},
   "cell_type": "markdown",
   "source": "## 3. Insights Críticos  \n"
  },
  {
   "metadata": {},
   "cell_type": "markdown",
   "source": "## 4. Relatório final"
  }
 ],
 "metadata": {
  "colab": {
   "provenance": []
  },
  "kernelspec": {
   "display_name": "Python 3 (ipykernel)",
   "language": "python",
   "name": "python3"
  },
  "language_info": {
   "name": "python"
  }
 },
 "nbformat": 4,
 "nbformat_minor": 0
}
