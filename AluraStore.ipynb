{
 "cells": [
  {
   "metadata": {},
   "cell_type": "markdown",
   "source": [
    "# Alura Store \n",
    "Análise Data-Driven: Recomendação baseada em faturamento, desempenho geográfico e satisfação do cliente"
   ]
  },
  {
   "metadata": {},
   "cell_type": "markdown",
   "source": [
    "## 1. Contexto do Problema  \n",
    "\n",
    " Ajudar o Senhor João a decidir qual loja da sua rede Alura Store vender para iniciar um novo empreendimento.\n",
    "\n",
    "- Objetivo: Identificar a loja menos eficiente para venda.  \n",
    "- Dados disponíveis: Vendas em 2023, avaliações, localização. "
   ]
  },
  {
   "metadata": {},
   "cell_type": "markdown",
   "source": [
    "### 1.1 Instalando e importação das bibliotecas utilizadas\n",
    "\n",
    "Utilizaremos diversas ferramentas para esse trabalho, _pandas_ para acessar as informações, _seaborn_ e _matplotlib_ para a vizualização dos dados e _folium_ para a análise geográfica. "
   ]
  },
  {
   "metadata": {},
   "cell_type": "code",
   "source": "!pip install requirements",
   "outputs": [],
   "execution_count": null
  },
  {
   "metadata": {},
   "cell_type": "code",
   "source": [
    "import pandas as pd\n",
    "import numpy as np\n",
    "import matplotlib.pyplot as plt\n",
    "from matplotlib.ticker import FuncFormatter\n",
    "import seaborn as sns\n",
    "import folium\n",
    "from folium.plugins import HeatMap"
   ],
   "outputs": [],
   "execution_count": null
  },
  {
   "cell_type": "markdown",
   "metadata": {
    "id": "RhEdWd9YUR6H"
   },
   "source": [
    "### 1.2 Importação dos dados\n",
    "\n",
    "Foi repassado os seguintes dados referentes a cada loja. Com informação das vendas no período de 2021 a \n"
   ]
  },
  {
   "metadata": {},
   "cell_type": "code",
   "source": [
    "# Carregar e consolidar os dados\n",
    "loja1 = pd.read_csv('data/loja_1.csv')\n",
    "loja2 = pd.read_csv('data/loja_2.csv')\n",
    "loja3 = pd.read_csv('data/loja_3.csv')\n",
    "loja4 = pd.read_csv('data/loja_4.csv')\n"
   ],
   "outputs": [],
   "execution_count": null
  },
  {
   "metadata": {},
   "cell_type": "markdown",
   "source": [
    "### 1.3 Unificação dos dados\n",
    "\n",
    "Para facilitar as análises a seguir, utilizarei uma abordagem de unificar cada _data frame_, para assim facilitar a leitura e evitar repetição de código."
   ]
  },
  {
   "metadata": {},
   "cell_type": "code",
   "source": [
    "# Adicionando uma coluna 'Loja' em cada data frame\n",
    "loja1['Loja'] = 'Loja 1'\n",
    "loja2['Loja'] = 'Loja 2'\n",
    "loja3['Loja'] = 'Loja 3'\n",
    "loja4['Loja'] = 'Loja 4'\n",
    "\n",
    "\n",
    "# Criando o único data frame\n",
    "lojas = [loja1, loja2, loja3, loja4]\n",
    "\n",
    "df = pd.concat(lojas, ignore_index=True)\n",
    "\n",
    "df.head()"
   ],
   "outputs": [],
   "execution_count": null
  },
  {
   "metadata": {},
   "cell_type": "markdown",
   "source": [
    "### Estilização dos gráficos\n",
    "Explicação..."
   ]
  },
  {
   "metadata": {},
   "cell_type": "code",
   "source": "sns.set_style('whitegrid')",
   "outputs": [],
   "execution_count": null
  },
  {
   "cell_type": "markdown",
   "metadata": {
    "id": "X62IW3KFUIYm"
   },
   "source": [
    "## 2. Análise Exploratória (EDA)\n",
    "\n",
    "A seguir, faremos uma análise de cada loja em relação ao faturamento, stisfação do cliente, custo de frete e análise geográfica"
   ]
  },
  {
   "metadata": {},
   "cell_type": "markdown",
   "source": [
    "### 2.1  Faturamento por Loja\n",
    "\n",
    "Para o faturamento por loja, somaremos os falores da coluna 'Preço', onde separaremos pela coluna 'Loja'"
   ]
  },
  {
   "metadata": {},
   "cell_type": "code",
   "source": [
    "faturamento = df.groupby('Loja')['Preço'].sum().sort_values(ascending=False).reset_index()\n",
    "\n",
    "print(faturamento)"
   ],
   "outputs": [],
   "execution_count": null
  },
  {
   "metadata": {},
   "cell_type": "code",
   "source": [
    "# Plotando o gráfico do faturamento\n",
    "plt.figure(figsize=(10, 6))\n",
    "sns.barplot(data=faturamento, x='Loja', y='Preço', hue='Loja', palette='Blues_d', legend=False)\n",
    "plt.title('Faturamento Total por Loja', pad=20)\n",
    "plt.ylabel('Faturamento Total Por Loja')\n",
    "plt.xlabel('')\n",
    "plt.gca().yaxis.set_major_formatter(plt.FuncFormatter(lambda x, _: f'R${x:,.0f}'))\n",
    "plt.grid(axis='y', linestyle='--', alpha=0.7)\n",
    "plt.tight_layout()\n",
    "plt.show()"
   ],
   "outputs": [],
   "execution_count": null
  },
  {
   "metadata": {},
   "cell_type": "markdown",
   "source": "Mesmo que a loja 1 possua um faturamento total maior vemos que todas as lojas possuem faturamentos similares. Logo, para uma melhro acurácia, analisaremos as vendas ao logo dos anos"
  },
  {
   "metadata": {},
   "cell_type": "code",
   "source": [
    "# Extrair ano da data\n",
    "df['Ano'] = pd.to_datetime(df['Data da Compra'],  format='%d/%m/%Y').dt.year\n",
    "\n",
    "# Calcular faturamento anual por loja\n",
    "faturamento_anual = df.groupby(['Ano', 'Loja'])['Preço'].sum().unstack()\n",
    "print(faturamento_anual)"
   ],
   "outputs": [],
   "execution_count": null
  },
  {
   "metadata": {},
   "cell_type": "code",
   "source": [
    "# Plotando gráfico do faturamento anual\n",
    "plt.figure(figsize=(12, 6))\n",
    "sns.barplot(data=df, x='Loja', y='Preço', hue='Ano', estimator=sum,\n",
    "            palette='viridis_d', errorbar=None)\n",
    "plt.title('Evolução Anual do Faturamento por Loja', pad=20)\n",
    "plt.xlabel('Lojas')\n",
    "plt.ylabel('Faturamento (R$)')\n",
    "plt.yticks(range(0, 550000, 50000))\n",
    "plt.gca().yaxis.set_major_formatter(plt.FuncFormatter(lambda x, _: f'R${x:,.0f}'))\n",
    "plt.legend(title='Ano', bbox_to_anchor=(1.05, 1))\n",
    "plt.tight_layout()\n",
    "plt.show()"
   ],
   "outputs": [],
   "execution_count": null
  },
  {
   "metadata": {},
   "cell_type": "markdown",
   "source": "Despresando o ano de 2023, que não estava complento, vemos uma queda nos faturamentos anuais na loja 1 e um aumento nas vendas anuais da loja 2. Nota-se uma variação na Loja 3 e na Loja 4"
  },
  {
   "metadata": {},
   "cell_type": "markdown",
   "source": [
    "### 2.2. Desempenho por Categoria  \n",
    "\n",
    "Cada loja pode ter categorias mais procuradas, portanto é importante analisar quais são os pontos fortes de cada setor, pela **quantidade** de produtos vendidos em cada categoria por loja."
   ]
  },
  {
   "metadata": {},
   "cell_type": "code",
   "source": [
    "# Calcula a quantidade de vendas por categoria em cada loja\n",
    "vendas_categoria_volume = df.groupby(['Loja', 'Categoria do Produto']).size().reset_index(name='Qtd_Vendas')\n",
    "\n",
    "# Ordena por loja e quantidade de vendas\n",
    "vendas_categoria_volume = vendas_categoria_volume.sort_values(['Loja', 'Qtd_Vendas'], ascending=[True, False])\n",
    "\n",
    "print(\"Volume de Vendas por Categoria:\\n\")\n",
    "\n",
    "lojas = vendas_categoria_volume['Loja'].unique()\n",
    "\n",
    "for loja in lojas:\n",
    "    tabela_loja = vendas_categoria_volume[vendas_categoria_volume['Loja'] == loja]\n",
    "    display(tabela_loja.style.background_gradient(cmap='Greens', subset=['Qtd_Vendas']))"
   ],
   "outputs": [],
   "execution_count": null
  },
  {
   "metadata": {},
   "cell_type": "code",
   "source": [
    "# Criar uma coluna com a ordem de popularidade de categoria para cada loja\n",
    "vendas_categoria_volume['Rank'] = vendas_categoria_volume.groupby('Loja')['Qtd_Vendas'].rank(ascending=False, method='dense')\n",
    "\n",
    "# Plot dos gráficos\n",
    "plt.figure(figsize=(14, 10))\n",
    "g = sns.FacetGrid(\n",
    "    vendas_categoria_volume,\n",
    "    col='Loja',\n",
    "    col_wrap=2,\n",
    "    height=5,\n",
    "    sharex=False,\n",
    "    sharey=False,\n",
    "    aspect=1.3\n",
    ")\n",
    "\n",
    "# Função para plotar cada subgráfico com ordem própria\n",
    "# Calcula o total de vendas por loja\n",
    "totais_por_loja = vendas_categoria_volume.groupby('Loja')['Qtd_Vendas'].sum()\n",
    "\n",
    "# Função para plotar cada subgráfico com ordenação própria e total\n",
    "def plot_ordered_bars(data, **kwargs):\n",
    "    loja = data['Loja'].iloc[0]\n",
    "    ordered_categories = data.sort_values('Qtd_Vendas', ascending=False)['Categoria do Produto']\n",
    "\n",
    "    ax = sns.barplot(\n",
    "        data=data,\n",
    "        x='Qtd_Vendas',\n",
    "        y='Categoria do Produto',\n",
    "        hue='Categoria do Produto',\n",
    "        legend=False,\n",
    "        order=ordered_categories,\n",
    "        palette='viridis',\n",
    "        **kwargs\n",
    "    )\n",
    "\n",
    "    # Adiciona os valores nas barras\n",
    "    for p in ax.patches:\n",
    "        width = p.get_width()\n",
    "        if width > 0:\n",
    "            ax.text(\n",
    "                width + 0.5,\n",
    "                p.get_y() + p.get_height()/2.,\n",
    "                f'{int(width)}',\n",
    "                ha='left',\n",
    "                va='center',\n",
    "                fontsize=9\n",
    "            )\n",
    "\n",
    "    # Adiciona a legenda com o total de vendas da loja no canto superior direito\n",
    "    total_vendas = totais_por_loja[loja]\n",
    "    ax.text(\n",
    "        0.95, -0.1,\n",
    "        f'Total de Vendas: {int(total_vendas)}',\n",
    "        transform=ax.transAxes,\n",
    "        fontsize=11,\n",
    "        fontweight='bold',\n",
    "        ha='right',\n",
    "        va='top',\n",
    "        bbox=dict(boxstyle='round,pad=0.3', facecolor='white', edgecolor='gray', alpha=0.8)\n",
    "    )\n",
    "\n",
    "# Aplicar a função personalizada\n",
    "g.map_dataframe(plot_ordered_bars)\n",
    "\n",
    "# Configurações estéticas\n",
    "g.set_titles('{col_name}', size=14, pad=10)\n",
    "g.set_axis_labels('Número de Vendas', '')\n",
    "g.fig.suptitle('Volume de Vendas por Categoria em Cada Loja', y=1.02, size=16)\n",
    "plt.tight_layout()\n",
    "plt.show()"
   ],
   "outputs": [],
   "execution_count": null
  },
  {
   "metadata": {},
   "cell_type": "markdown",
   "source": "Ao observar como cada loja se distribue nas categorias de produtos, vemos que todas as lojas são parecidas em relaçãs as categorias mais populares, com 'Móveis', 'Eletrônicos e 'Brinquedos' no top três. Com isso, podemos levar em conta outros fotores para a análise."
  },
  {
   "cell_type": "markdown",
   "metadata": {
    "id": "2V_vcAPzWZmR"
   },
   "source": [
    "### 2.3. Satisfação do Cliente  \n",
    "\n",
    "Um ponto deveras importante, é analisar se os clientes estão satisfeitos com o atendimento e as compras feitas nas lojas. Para isso, faremos um média de avaliação por loja."
   ]
  },
  {
   "metadata": {},
   "cell_type": "code",
   "source": [
    "avaliacao_media = df.groupby('Loja')['Avaliação da compra'].mean().sort_values(ascending=False)\n",
    "print(avaliacao_media)"
   ],
   "outputs": [],
   "execution_count": null
  },
  {
   "metadata": {},
   "cell_type": "code",
   "source": "avaliacao_media.plot(kind='barh', color='green', title='Média de Avaliação por Loja')\n",
   "outputs": [],
   "execution_count": null
  },
  {
   "metadata": {},
   "cell_type": "markdown",
   "source": "As médias das lojas são bem similares, então para uma análise mais profudas poderíamos levar em consideração a outros dados estatísticos como moda e mediana, além de quantidade de avaliações ruins (1-2) médias ("
  },
  {
   "metadata": {},
   "cell_type": "markdown",
   "source": ""
  },
  {
   "metadata": {},
   "cell_type": "markdown",
   "source": [
    "## 2.4. Produtos mais e menos vendidos\n",
    "\n",
    "Outra informação válida são os produtos preferidos pelos clientes de cada loja"
   ]
  },
  {
   "metadata": {},
   "cell_type": "code",
   "source": [
    "top_produtos = df.groupby(['Loja', 'Produto']).size().groupby('Loja').nlargest(5)\n",
    "\n",
    "print(top_produtos)\n"
   ],
   "outputs": [],
   "execution_count": null
  },
  {
   "metadata": {},
   "cell_type": "markdown",
   "source": "### 2.5. Frete  médio por loja"
  },
  {
   "metadata": {},
   "cell_type": "code",
   "source": [
    "frete_medio = df.groupby('Loja')['Frete'].mean().sort_values()\n",
    "frete_medio.plot(kind='pie', autopct='%.1f%%', title='Frete Médio por Loja')"
   ],
   "outputs": [],
   "execution_count": null
  },
  {
   "metadata": {},
   "cell_type": "markdown",
   "source": "### 2.6. Análise Geográfica "
  },
  {
   "metadata": {},
   "cell_type": "markdown",
   "source": "## 3. Insights Críticos  \n"
  },
  {
   "metadata": {},
   "cell_type": "markdown",
   "source": "## 4. Relatório final"
  }
 ],
 "metadata": {
  "colab": {
   "provenance": []
  },
  "kernelspec": {
   "display_name": "Python 3 (ipykernel)",
   "language": "python",
   "name": "python3"
  },
  "language_info": {
   "name": "python"
  }
 },
 "nbformat": 4,
 "nbformat_minor": 0
}
